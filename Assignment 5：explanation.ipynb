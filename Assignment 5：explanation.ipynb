{
 "cells": [
  {
   "cell_type": "markdown",
   "id": "9531ba50",
   "metadata": {},
   "source": [
    "# Assignment5：Hangman\n",
    "* explanation"
   ]
  },
  {
   "cell_type": "markdown",
   "id": "afa2caac",
   "metadata": {},
   "source": [
    "## Date：12/03/2023"
   ]
  },
  {
   "cell_type": "markdown",
   "id": "0058f821",
   "metadata": {},
   "source": [
    "**Name：Mengyuan Li**"
   ]
  },
  {
   "cell_type": "markdown",
   "id": "5476f2d4",
   "metadata": {},
   "source": [
    "### Group_16  members： \n",
    "* Gimhani Kaushalya Garusing Arachchige\n",
    "* Xin Yuan\n",
    "* Mengyuan Li\n",
    "* Le Phuoc Hoang Dan\n",
    "* Xiuru Kang"
   ]
  },
  {
   "cell_type": "markdown",
   "id": "1b0e03ec",
   "metadata": {},
   "source": [
    "First, the game requires you to enter your name; Enter a letter after starting the game. If the letter is one of the randomly given words, the letter will be told where the letter is in the word; If the letter you give is not in this word, the game will tell you that you guessed wrong, and you have several chances to guess, and also draw the pattern of hanging people upside down; If you guessed every letter correctly, you would win; If you guess wrong every time, you will lose the game, and you will be hanged upside down"
   ]
  },
  {
   "cell_type": "code",
   "execution_count": null,
   "id": "b610265d",
   "metadata": {},
   "outputs": [],
   "source": [
    "import random\n",
    "import time"
   ]
  },
  {
   "cell_type": "markdown",
   "id": "298517b5",
   "metadata": {},
   "source": [
    "* lmport random module to generate random index to randomly pick a word from word list\n",
    "* lmport time to put program to load for certain amount of time instead of instantly loading everything. lt makes program more robustand looks like a real game"
   ]
  },
  {
   "cell_type": "code",
   "execution_count": null,
   "id": "76cd77b2",
   "metadata": {},
   "outputs": [],
   "source": [
    "# Initial Steps to invite in the game:\n",
    "print(\"\\n Hello! Welcome to Hangman game\\n\")\n",
    "name = input(\"Enter your name: \")"
   ]
  },
  {
   "cell_type": "markdown",
   "id": "56219b02",
   "metadata": {},
   "source": [
    "* Get input name and assign it to variable called name"
   ]
  },
  {
   "cell_type": "code",
   "execution_count": null,
   "id": "63f8c932",
   "metadata": {},
   "outputs": [],
   "source": [
    "print(\"Nice to meet you \" + name )\n",
    "time.sleep(2)\n",
    "print(\"Game is starting...\\n \")\n",
    "time.sleep(3)"
   ]
  },
  {
   "cell_type": "markdown",
   "id": "5253f923",
   "metadata": {},
   "source": [
    "* Make program to pause for 2（3）seconds then continue to the next command"
   ]
  },
  {
   "cell_type": "code",
   "execution_count": null,
   "id": "69c09c8f",
   "metadata": {},
   "outputs": [],
   "source": [
    "def main():\n",
    "    global count\n",
    "    global display\n",
    "    global word\n",
    "    global already_guessed\n",
    "    global length\n",
    "    global play_game\n",
    "    words_to_guess = [\"mother\",\"passion\",\"eternity\",\"fantastic\",\"destiny\",\"liberty\",\"peace\",\"sunshine\",\"hope\",\"grace\"\n",
    "                   ,\"blue\"]"
   ]
  },
  {
   "cell_type": "markdown",
   "id": "0f404b0c",
   "metadata": {},
   "source": [
    "* Given some guessing words"
   ]
  },
  {
   "cell_type": "code",
   "execution_count": null,
   "id": "7c74ba00",
   "metadata": {},
   "outputs": [],
   "source": [
    "    word = random.choice(words_to_guess)\n",
    "    length = len(word)\n",
    "    count = 0\n",
    "    display = '_' * length\n",
    "    already_guessed = []\n",
    "    play_game = \"\""
   ]
  },
  {
   "cell_type": "markdown",
   "id": "e384f05c",
   "metadata": {},
   "source": [
    "* Give words randomly"
   ]
  },
  {
   "cell_type": "code",
   "execution_count": null,
   "id": "eb5dddaf",
   "metadata": {},
   "outputs": [],
   "source": [
    "def play_loop():"
   ]
  },
  {
   "cell_type": "markdown",
   "id": "aaa51b81",
   "metadata": {},
   "source": [
    "* this function is to check if the player wants to play again or not"
   ]
  },
  {
   "cell_type": "code",
   "execution_count": null,
   "id": "a7efd329",
   "metadata": {},
   "outputs": [],
   "source": [
    "    global play_game"
   ]
  },
  {
   "cell_type": "markdown",
   "id": "c8b3cfec",
   "metadata": {},
   "source": [
    "* we check the player's answer and set it as value and store it inside play game variable"
   ]
  },
  {
   "cell_type": "code",
   "execution_count": null,
   "id": "bb7c3a03",
   "metadata": {},
   "outputs": [],
   "source": [
    "    play_game = input(\"Do You want to play again? y = yes, n = no \\n\")"
   ]
  },
  {
   "cell_type": "markdown",
   "id": "0f36e94c",
   "metadata": {},
   "source": [
    "* This is to take input from user"
   ]
  },
  {
   "cell_type": "code",
   "execution_count": null,
   "id": "41112920",
   "metadata": {},
   "outputs": [],
   "source": [
    "    while play_game not in [\"y\", \"n\",\"Y\",\"N\"]:\n",
    "        play_game = input(\"Do You want to play again? y = yes, n = no \\n\")\n",
    "    if play_game == \"y\":\n",
    "        main()\n",
    "    elif play_game == \"n\":\n",
    "        print(\"Thanks For Playing! \")\n",
    "        exit()"
   ]
  },
  {
   "cell_type": "markdown",
   "id": "6c0c388b",
   "metadata": {},
   "source": [
    "* this while loop is to check what the player wantslf he/she choose y or Y, we run main() functionlf he/she shoose n or N, we print out the messageand then stop the program with the exit command"
   ]
  },
  {
   "cell_type": "code",
   "execution_count": null,
   "id": "a10f3531",
   "metadata": {},
   "outputs": [],
   "source": [
    "def hangman():"
   ]
  },
  {
   "cell_type": "markdown",
   "id": "238d68b6",
   "metadata": {},
   "source": [
    "* This hangman() function is the main game play"
   ]
  },
  {
   "cell_type": "code",
   "execution_count": null,
   "id": "fa61c314",
   "metadata": {},
   "outputs": [],
   "source": [
    "    global count\n",
    "    global display\n",
    "    global word\n",
    "    global already_guessed\n",
    "    global play_game"
   ]
  },
  {
   "cell_type": "markdown",
   "id": "009aff8b",
   "metadata": {},
   "source": [
    "* These are global variables , They are set to global so that they can be accessed from other funcstion or classes"
   ]
  },
  {
   "cell_type": "code",
   "execution_count": null,
   "id": "c15c216d",
   "metadata": {},
   "outputs": [],
   "source": [
    "    limit = 5 "
   ]
  },
  {
   "cell_type": "markdown",
   "id": "e3a684b2",
   "metadata": {},
   "source": [
    "* This is to limit number of times that player can play. And we set it to 5 times maximum"
   ]
  },
  {
   "cell_type": "code",
   "execution_count": null,
   "id": "0a8304b4",
   "metadata": {},
   "outputs": [],
   "source": [
    "    guess = input(\"This is the Hangman Word: \" + display + \" Enter your guess: \\n\")"
   ]
  },
  {
   "cell_type": "markdown",
   "id": "36c4e98f",
   "metadata": {},
   "source": [
    "* this is where player quess words, and we store it inside guess variable"
   ]
  },
  {
   "cell_type": "code",
   "execution_count": null,
   "id": "207b2edc",
   "metadata": {},
   "outputs": [],
   "source": [
    " guess = guess.strip()"
   ]
  },
  {
   "cell_type": "markdown",
   "id": "8bbfe34d",
   "metadata": {},
   "source": [
    "* This strip method is to remove the whitespace from the beginning and the end of the string"
   ]
  },
  {
   "cell_type": "code",
   "execution_count": null,
   "id": "80a14dc3",
   "metadata": {},
   "outputs": [],
   "source": [
    "if len(guess.strip()) == 0 or len(guess.strip()) >= 2 or guess <= \"9\":\n",
    "        print(\"Invalid Input, Try a letter\\n\")\n",
    "        hangman()"
   ]
  },
  {
   "attachments": {},
   "cell_type": "markdown",
   "id": "ba516654",
   "metadata": {},
   "source": [
    "* This condition is to check whether the player'sinput is validlf no input, meaning length of input is 0: invalidor length of input after removing whitespaces ismore than 2: invalidor length of input after removing whitespaces isless than or equal to 9: invalidAfter, we print the messageThen, run the hangman() function again"
   ]
  },
  {
   "cell_type": "code",
   "execution_count": null,
   "id": "82d8d907",
   "metadata": {},
   "outputs": [],
   "source": [
    "elif guess in word:"
   ]
  },
  {
   "cell_type": "markdown",
   "id": "5894dc8c",
   "metadata": {},
   "source": [
    "* This is to loop through word, and check if guess ( the player’s guess in in that word)"
   ]
  },
  {
   "cell_type": "code",
   "execution_count": null,
   "id": "23c775cc",
   "metadata": {},
   "outputs": [],
   "source": [
    " already_guessed.extend([guess])"
   ]
  },
  {
   "cell_type": "markdown",
   "id": "983ffb0b",
   "metadata": {},
   "source": [
    "* The extend() method is to add the guess into an array"
   ]
  },
  {
   "cell_type": "code",
   "execution_count": null,
   "id": "cac80466",
   "metadata": {},
   "outputs": [],
   "source": [
    " index = word.find(guess)"
   ]
  },
  {
   "cell_type": "markdown",
   "id": "eabfcd2b",
   "metadata": {},
   "source": [
    "* the find method is to check if the guess is in that word."
   ]
  },
  {
   "cell_type": "code",
   "execution_count": null,
   "id": "d34e6303",
   "metadata": {},
   "outputs": [],
   "source": [
    " word = word[:index] + \"_\" + word[index + 1:]"
   ]
  },
  {
   "cell_type": "markdown",
   "id": "5a73de53",
   "metadata": {},
   "source": [
    "* we have an array , and set its variable name is word. \n",
    "Then we add each letter to that word array\n",
    "word[:index] : mean from index 0 to and less than index"
   ]
  },
  {
   "cell_type": "code",
   "execution_count": null,
   "id": "d1280725",
   "metadata": {},
   "outputs": [],
   "source": [
    "display = display[:index] + guess + display[index + 1:]"
   ]
  },
  {
   "cell_type": "markdown",
   "id": "f22d7302",
   "metadata": {},
   "source": [
    "* display = display[:index] + guess + display[index + 1:]"
   ]
  }
 ],
 "metadata": {
  "kernelspec": {
   "display_name": "Python 3 (ipykernel)",
   "language": "python",
   "name": "python3"
  },
  "language_info": {
   "codemirror_mode": {
    "name": "ipython",
    "version": 3
   },
   "file_extension": ".py",
   "mimetype": "text/x-python",
   "name": "python",
   "nbconvert_exporter": "python",
   "pygments_lexer": "ipython3",
   "version": "3.9.13"
  }
 },
 "nbformat": 4,
 "nbformat_minor": 5
}
